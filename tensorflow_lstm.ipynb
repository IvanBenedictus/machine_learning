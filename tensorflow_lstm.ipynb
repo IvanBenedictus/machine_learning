{
 "cells": [
  {
   "cell_type": "code",
   "execution_count": 5,
   "metadata": {},
   "outputs": [],
   "source": [
    "import numpy as np\n",
    "import tensorflow as tf"
   ]
  },
  {
   "cell_type": "markdown",
   "metadata": {},
   "source": [
    "### Creating Stacked LSTM"
   ]
  },
  {
   "cell_type": "code",
   "execution_count": 9,
   "metadata": {},
   "outputs": [
    {
     "data": {
      "text/plain": [
       "[<keras.src.layers.rnn.lstm.LSTMCell at 0x14c53df2c90>,\n",
       " <keras.src.layers.rnn.lstm.LSTMCell at 0x14c52d1e690>]"
      ]
     },
     "execution_count": 9,
     "metadata": {},
     "output_type": "execute_result"
    }
   ],
   "source": [
    "cells = []\n",
    "\n",
    "# First LSTM layer\n",
    "cell_size_1 = 4 #4 hidden nodes\n",
    "cell1 = tf.keras.layers.LSTMCell(cell_size_1)\n",
    "cells.append(cell1)\n",
    "\n",
    "# Second LSTM layer\n",
    "cell_size_2 = 5 #5 hidden nodes\n",
    "cell2 = tf.keras.layers.LSTMCell(cell_size_2)\n",
    "cells.append(cell2)\n",
    "\n",
    "stacked_lstm =  tf.keras.layers.StackedRNNCells(cells)\n",
    "lstm_layer= tf.keras.layers.RNN(stacked_lstm ,return_sequences=True, return_state=True)"
   ]
  },
  {
   "cell_type": "markdown",
   "metadata": {},
   "source": [
    "### Create Data Examples"
   ]
  },
  {
   "cell_type": "code",
   "execution_count": 7,
   "metadata": {},
   "outputs": [],
   "source": [
    "#Batch size x time steps x features.\n",
    "sample_input = [[[1,2,3,4,3,2], [1,2,1,1,1,2],[1,2,2,2,2,2]],[[1,2,3,4,3,2],[3,2,2,1,1,2],[0,0,0,0,3,2]]]\n",
    "\n",
    "batch_size = 2\n",
    "time_steps = 3\n",
    "features = 6\n",
    "new_shape = (batch_size, time_steps, features)\n",
    "\n",
    "x = tf.constant(np.reshape(sample_input, new_shape), dtype = tf.float32)"
   ]
  },
  {
   "cell_type": "markdown",
   "metadata": {},
   "source": [
    "### Show Training Output"
   ]
  },
  {
   "cell_type": "code",
   "execution_count": 8,
   "metadata": {},
   "outputs": [
    {
     "name": "stdout",
     "output_type": "stream",
     "text": [
      "Output :  tf.Tensor([2 3 5], shape=(3,), dtype=int32)\n",
      "Memory :  tf.Tensor([2 2 4], shape=(3,), dtype=int32)\n",
      "Carry state :  tf.Tensor([2 2 5], shape=(3,), dtype=int32)\n"
     ]
    }
   ],
   "source": [
    "output, final_memory_state, final_carry_state  = lstm_layer(x)\n",
    "\n",
    "print('Output : ', tf.shape(output))\n",
    "print('Memory : ',tf.shape(final_memory_state))\n",
    "print('Carry state : ',tf.shape(final_carry_state))"
   ]
  }
 ],
 "metadata": {
  "kernelspec": {
   "display_name": "Python 3",
   "language": "python",
   "name": "python3"
  },
  "language_info": {
   "codemirror_mode": {
    "name": "ipython",
    "version": 3
   },
   "file_extension": ".py",
   "mimetype": "text/x-python",
   "name": "python",
   "nbconvert_exporter": "python",
   "pygments_lexer": "ipython3",
   "version": "3.11.2"
  }
 },
 "nbformat": 4,
 "nbformat_minor": 2
}
