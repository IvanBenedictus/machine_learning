{
 "cells": [
  {
   "cell_type": "code",
   "execution_count": 239,
   "metadata": {},
   "outputs": [],
   "source": [
    "import matplotlib.pyplot as plt\n",
    "import pandas as pd\n",
    "import numpy as np\n",
    "import torch"
   ]
  },
  {
   "cell_type": "markdown",
   "metadata": {},
   "source": [
    "### MNIST Dataset"
   ]
  },
  {
   "cell_type": "code",
   "execution_count": 240,
   "metadata": {},
   "outputs": [
    {
     "data": {
      "text/plain": [
       "(torch.Size([60000, 28, 28]), torch.Size([60000, 10]))"
      ]
     },
     "execution_count": 240,
     "metadata": {},
     "output_type": "execute_result"
    }
   ],
   "source": [
    "import tensorflow as tf\n",
    "\n",
    "mnist = tf.keras.datasets.mnist\n",
    "\n",
    "(x_train, y_train), (x_test, y_test) = mnist.load_data()\n",
    "\n",
    "x_train = torch.FloatTensor(x_train) / 255.\n",
    "x_test = torch.FloatTensor(x_test) / 255.\n",
    "\n",
    "y_train = torch.FloatTensor(y_train).long()\n",
    "y_test = torch.FloatTensor(y_test).long()\n",
    "\n",
    "y_train = torch.nn.functional.one_hot(y_train, num_classes=10)\n",
    "y_test = torch.nn.functional.one_hot(y_test, num_classes=10)\n",
    "\n",
    "x_train.shape, y_train.shape"
   ]
  },
  {
   "cell_type": "code",
   "execution_count": 241,
   "metadata": {},
   "outputs": [
    {
     "data": {
      "text/plain": [
       "(torch.Size([60000, 1, 28, 28]), torch.Size([10000, 1, 28, 28]))"
      ]
     },
     "execution_count": 241,
     "metadata": {},
     "output_type": "execute_result"
    }
   ],
   "source": [
    "# Reshape the Tensor\n",
    "x_train = x_train.view(-1, 1, 28, 28)\n",
    "x_test = x_test.view(-1, 1, 28, 28)\n",
    "\n",
    "y_train = y_train.view(-1, 10)\n",
    "y_test = y_test.view(-1, 10)\n",
    "\n",
    "x_train.shape, x_test.shape"
   ]
  },
  {
   "cell_type": "code",
   "execution_count": 242,
   "metadata": {},
   "outputs": [],
   "source": [
    "batch_size = 100\n",
    "\n",
    "# Split the data and labels into batches\n",
    "xtrain_batches = torch.split(x_train, batch_size)\n",
    "ytrain_batches = torch.split(y_train, batch_size)\n",
    "\n",
    "xtest_batches = torch.split(x_train, batch_size)\n",
    "ytest_batches = torch.split(y_train, batch_size)"
   ]
  },
  {
   "cell_type": "markdown",
   "metadata": {},
   "source": [
    "### Build CNN Model"
   ]
  },
  {
   "cell_type": "code",
   "execution_count": 243,
   "metadata": {},
   "outputs": [],
   "source": [
    "class Model(torch.nn.Module):\n",
    "    def __init__(self):\n",
    "        super().__init__()\n",
    "        self.conv1 = torch.nn.Conv2d(1, 32, 5, 1, padding=\"same\")\n",
    "        self.conv2 = torch.nn.Conv2d(32, 64, 5, 1, padding=\"same\")\n",
    "        self.line1 = torch.nn.Linear(7*7*64, 1024)\n",
    "        self.line2 = torch.nn.Linear(1024, 10)\n",
    "\n",
    "    def forward(self, x):\n",
    "        # Convolution Layer 1\n",
    "        x = torch.nn.functional.relu(self.conv1(x))\n",
    "        x = torch.nn.functional.max_pool2d(x, 2, 2)\n",
    "\n",
    "        # Convolution Layer 2\n",
    "        x = torch.nn.functional.relu(self.conv2(x))\n",
    "        x = torch.nn.functional.max_pool2d(x, 2, 2)\n",
    "\n",
    "        # Fully Connected Layer\n",
    "        x = x.view(-1, 7*7*64)\n",
    "        x = torch.nn.functional.relu(self.line1(x))\n",
    "        x = torch.nn.functional.dropout(x, p=0.5)\n",
    "\n",
    "        # Softmax Layer\n",
    "        x = torch.nn.functional.softmax(self.line2(x), dim=1)\n",
    "\n",
    "        return x"
   ]
  },
  {
   "cell_type": "code",
   "execution_count": 244,
   "metadata": {},
   "outputs": [],
   "source": [
    "model = Model()\n",
    "\n",
    "# Set Loss Function\n",
    "criterion = torch.nn.CrossEntropyLoss()\n",
    "\n",
    "# Set Optimizeer\n",
    "optimizer = torch.optim.Adam(model.parameters(), lr=0.0001)"
   ]
  },
  {
   "cell_type": "code",
   "execution_count": 245,
   "metadata": {},
   "outputs": [
    {
     "name": "stdout",
     "output_type": "stream",
     "text": [
      "Epoch: 5 and Losses: 1.4864498376846313\n"
     ]
    }
   ],
   "source": [
    "epochs = 5\n",
    "losses = []\n",
    "\n",
    "for i in range(epochs):\n",
    "    for (x_batch, y_batch) in zip(xtrain_batches, ytrain_batches):\n",
    "        # x_batch = x_batch.view(batch_size, 1, 28, 28)\n",
    "        # y_batch = y_batch.view(batch_size, 10)\n",
    "\n",
    "        # Predict the batch\n",
    "        y_pred = model(x_batch)\n",
    "\n",
    "        y_pred = y_pred.float()\n",
    "        y_batch = y_batch.float()\n",
    "\n",
    "        # Added the loss batch\n",
    "        loss = criterion(y_pred, y_batch)\n",
    "        losses.append(loss.detach().numpy)\n",
    "\n",
    "        # Back Propagation\n",
    "        optimizer.zero_grad()\n",
    "        loss.backward()\n",
    "        optimizer.step()\n",
    "print(f\"Epoch: {i+1} and Losses: {loss}\")"
   ]
  },
  {
   "cell_type": "code",
   "execution_count": 246,
   "metadata": {},
   "outputs": [
    {
     "name": "stdout",
     "output_type": "stream",
     "text": [
      "We got 97.99% accuracy!\n"
     ]
    }
   ],
   "source": [
    "# Validation Test\n",
    "with torch.no_grad():\n",
    "    correct = 0\n",
    "\n",
    "    for j, (x_batch, y_batch) in enumerate(zip(xtest_batches, ytest_batches)):\n",
    "        # x_batch = x_batch.view(batch_size, 1, 28, 28)\n",
    "        # y_batch = y_batch.view(batch_size, 10)\n",
    "\n",
    "        # Predict the batch\n",
    "        y_pred = model(x_batch)\n",
    "\n",
    "        for pred, value in zip(y_pred, y_batch):\n",
    "            if pred.argmax().item() == value.argmax().item():\n",
    "                correct +=1\n",
    "\n",
    "print(f\"We got {round((correct)/((j+1)*batch_size)*100, 2)}% accuracy!\")"
   ]
  },
  {
   "cell_type": "code",
   "execution_count": 249,
   "metadata": {},
   "outputs": [
    {
     "data": {
      "image/png": "[encoded data removed]",
      "text/plain": [
       "<Figure size 300x300 with 1 Axes>"
      ]
     },
     "metadata": {},
     "output_type": "display_data"
    },
    {
     "name": "stdout",
     "output_type": "stream",
     "text": [
      "This is the number 7!\n"
     ]
    }
   ],
   "source": [
    "# Image Prediction\n",
    "sampleimage = x_test[0]\n",
    "\n",
    "plt.figure(1, figsize=(3,3))\n",
    "plt.imshow(np.reshape(sampleimage,[28, 28]), cmap=\"gray\")\n",
    "plt.show()\n",
    "\n",
    "print(f\"This is the number {model(sampleimage).argmax().item()}!\")"
   ]
  }
 ],
 "metadata": {
  "kernelspec": {
   "display_name": "Python 3",
   "language": "python",
   "name": "python3"
  },
  "language_info": {
   "codemirror_mode": {
    "name": "ipython",
    "version": 3
   },
   "file_extension": ".py",
   "mimetype": "text/x-python",
   "name": "python",
   "nbconvert_exporter": "python",
   "pygments_lexer": "ipython3",
   "version": "3.11.2"
  }
 },
 "nbformat": 4,
 "nbformat_minor": 2
}
